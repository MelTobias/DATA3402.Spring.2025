{
 "cells": [
  {
   "cell_type": "markdown",
   "metadata": {},
   "source": [
    "# Lab 3\n",
    "## Melissa Tobias\n",
    "\n",
    "In this lab we will become familiar with distributions, histograms, and functional programming. Do not use numpy or any other library for this lab.\n",
    "\n",
    "Before that, lets get setup homework submission and submit your previous lab.  \n",
    "\n",
    "## Working on the Command-line.\n",
    "\n",
    "It is important for you to learn to work on the command line and to be familiar with the Unix environment (e.g. Linux, Mac OS, or Windows Linux Subsystem). We'll go over working on the command-line in detail later in the course.\n",
    "\n",
    "You are required to submit your work in this course via GitHub. Today in class, you will setup everything on the command-line.\n",
    "\n",
    "### Command-line basics\n",
    "\n",
    "There is plenty of material online that will help you figure out how to do various tasks on the command line. Commands you may need to know today:\n",
    "\n",
    "* `ls`: lists the contents of the current directory.\n",
    "* `pwd`: prints the path of the current directory.\n",
    "* `cd <directory>`: changes your current directory to the specified directory.\n",
    "* `cd ..`: changes current directory to the previous directory. Basically steps out of the current directory to the directory containing the current directory.\n",
    "* `mkdir <directory>`: create a new directory with the specified name.\n",
    "* `rmdir <directory>`: removes the specified directory. Note it has to be empty.\n",
    "* `rm <filename>`: deletes the specified file.\n",
    "* `mv <filename 1> <filename 2>`: Moves or renames a file.\n",
    "* `cp <filename 1> <filename 2>`: copies an file. If you just provide a path to a directory, it copies the file into that directory with the same filename. If you specifiy a new filename, the copy has a new name. For example `cp File.1.txt File.2.txt` creates a copy of `File.1.txt` with the name `File.2.txt`. Meanwhile `cp File.1.txt my_directory`, where `my_directory` is a directory, creates a copy of `File.1.txt` in directory `my_directory` with the name `File.1.txt`.\n",
    "\n",
    "For reference, here are some example resources I found by googling:\n",
    "\n",
    "* Paths and Wildcards: https://www.warp.dev/terminus/linux-wildcards\n",
    "* Basic commands like copy: https://kb.iu.edu/d/afsk\n",
    "* General introduction to shell: https://github-pages.ucl.ac.uk/RCPSTrainingMaterials/HPCandHTCusingLegion/2_intro_to_shell.html\n",
    "* Manual pages: https://www.geeksforgeeks.org/linux-man-page-entries-different-types/?ref=ml_lbp\n",
    "* Chaining commands: https://www.geeksforgeeks.org/chaining-commands-in-linux/?ref=ml_lbp\n",
    "* Piping: https://www.geeksforgeeks.org/piping-in-unix-or-linux/\n",
    "* Using sed: https://www.geeksforgeeks.org/sed-command-linux-set-2/?ref=ml_lbp\n",
    "* Various Unix commands: https://www.geeksforgeeks.org/linux-commands/?ref=lbp\n",
    "* Cheat sheets:\n",
    "    * https://www.stationx.net/unix-commands-cheat-sheet/\n",
    "    * https://cheatography.com/davechild/cheat-sheets/linux-command-line/\n",
    "    * https://www.theknowledgeacademy.com/blog/unix-commands-cheat-sheet/\n",
    "    \n",
    "These aren't necessarily the best resources. Feel free to search for better ones. Also, don't forget that Unix has built-in manual pages for all of its commands. Just type `man <command>` at the command prompt. Use the space-bar to scroll through the documentation and \"q\" to exit.\n",
    "\n",
    "\n",
    "### Setup and Submission\n",
    "\n",
    "Our course repository is public. The instructions here aim to have you setup a fork of the course repository. Unfortunately because you are forking a public repo, your fork will have to be public also. \n",
    "\n",
    "You should be familiar with git from the first semester of this course. I assume that you all have github accounts and have setup things to be able to [push to github using ssh](https://docs.github.com/en/github/authenticating-to-github/connecting-to-github-with-ssh). The instuctions here lead you to:\n",
    "\n",
    "We'll overview what you will do before going through step by step instructions.\n",
    "\n",
    "1. Setup:\n",
    "    1. Fork the class repository. Some directions in [fork-a-repo](https://docs.github.com/en/github/getting-started-with-github/fork-a-repo).\n",
    "    1. Create a directory on your personal system where you will keep all course materials.\n",
    "    1. In that directory, clone your fork of the repository.\n",
    "    1. Using `git remote`, set the upstream to be the class repo, so you can pull from the class and push to your fork.\n",
    "\n",
    "1. Submission:\n",
    "    1. Copy your solutions into the appropriate directory (e.g. into `Labs/Lab.2/`) and with appropriate filename `Lab.2.solution.ipynb'.\n",
    "    1. Commit / push your solutions.\n",
    "    1. Grant access to course instructors.\n",
    "\n",
    "Below are step by step instructions with examples (including example directory naming convention). Feel free to modify things as you see fit. \n",
    "\n",
    "#### Setup\n",
    "You should only need to follow this instructions once. Here are some useful git commands:\n",
    "\n",
    "* Git help: `git help`\n",
    "* Git remote help: `git help remote`\n",
    "* Check remote status: `git remote -v`\n",
    "* Add a remote: `git remote add <stream name> <repo URL>`\n",
    "* Add a remove: `git remote remove <stream name>`\n",
    "\n",
    "Steps:\n",
    "1. In a browser, log into GitHub and navigate to the [course repository](https://github.com/UTA-DataScience/DATA3402.Spring.2025).\n",
    "1. On the top right of the page, press the fork button to create a new fork into your own GitHub account.\n",
    "1. After successful fork, you should find the browser showing your fork of the course repository. Use the green \"Code\" button to copy path to the repo into your the clipboard of your computer.\n",
    "1. Open a shell on your personal computer.\n",
    "1. If you have not done so already, create a new directory/folder where you will keep all course material to navigate to it. For example: `mkdir Data-3402` and `cd Data-3402`.\n",
    "1. Clone your fork of the repository using `git clone` followed by the path you copied into your clipboard. (copy/paste)\n",
    "1. Paste the URL to your fork in the worksheet for the TAs and instructors.\n",
    "1. Now go into the directory of your clone (`cd DATA3402.Spring.2025`).\n",
    "1. Type `git remote -v` to see the current setup for fetch and pull.\n",
    "1. Note the URL you see. This should be the same as what you used for your clone for both push and fetch.\n",
    "1. Delete the origin remote using `git remote remove origin`.\n",
    "1. Add the course repo as your remote using `git remote add origin https://github.com/UTA-DataScience/DATA3402.Spring.2025.git`.\n",
    "1. Change the push to point to your fork. This means you will need the URL to your clone we copied earlier and confirmed as the original origin. The command will look something like: `git remote set-url --push origin  https://github.com/XXXXXX/DATA3402.Spring.2025.git`, where XXXXX is your username on GitHub.\n",
    "1. Note that if you setup everything correctly, you now should be able to do `git pull` to get updates from the course repo, and do `git push` to push your commits into your own fork.\n",
    "\n",
    "### Submission\n",
    "These instructions outline how you submit files. Some useful commands:\n",
    "* To add a file to local repository: `git add <file>`.\n",
    "* To commit all changed files into local repository: `git -a -m \"A message\"`. You need to provide some comment when you commit. \n",
    "* To push the commited files from the local repository to GitHub: `git push`.\n",
    "* To get updates from GitHub: `git pull`.\n",
    "\n",
    "Steps:\n",
    "1. To submit your labs, navigate to your clone of your fork of the course repository. \n",
    "1. Use `git pull` to make sure you have the latest updates. \n",
    "1. Make sure your copy of the lab your are working on is in the appropriate place in this clone. That means if you have the file elsewhere, copy it to the same directory in your clone of your fork. \n",
    "1. Note that in order to avoid future conflicts, you should always name your solution differently than the original file in the class repo. For example if your file is still named `Lab.2.ipynb` you should rename it using the `mv` command: `mv Lab.2.ipynb Lab.2.solution.ipynb`. \n",
    "1. Add and files you wish to submit into the repo. For example: `git add Labs/Lab.2/Lab.2.solution.ipynb`\n",
    "1. Commit any changes: `git commit -a -m \"Lab 2 updates\"`\n",
    "1. Push your changes: `git push`\n",
    "1. Check on github website that your solutions have been properly submitted.\n",
    "\n",
    "Before you leave the session today, make sure your GitHub Repo is setup. If you need to work further on your lab, navigate jupyter to the copy of the lab you just submitted and work there. Once done, repeat the commit and push commands to submit your updated solution. Note that lab 2 is due by midnight Friay 1/31/2025.\n"
   ]
  },
  {
   "cell_type": "markdown",
   "metadata": {},
   "source": [
    "### Uniform Distribution\n",
    "Lets start with generating some fake random data. You can get a random number between 0 and 1 using the python random module as follow:"
   ]
  },
  {
   "cell_type": "code",
   "execution_count": 78,
   "metadata": {},
   "outputs": [
    {
     "name": "stdout",
     "output_type": "stream",
     "text": [
      "The Value of x is 0.8303061539707778\n"
     ]
    }
   ],
   "source": [
    "import random\n",
    "x=random.random()\n",
    "print(\"The Value of x is\", x)"
   ]
  },
  {
   "cell_type": "markdown",
   "metadata": {},
   "source": [
    "Everytime you call random, you will get a new number.\n",
    "\n",
    "*Exercise 1:* Using random, write a function `generate_uniform(N, mymin, mymax)`, that returns a python list containing N random numbers between specified minimum and maximum value. Note that you may want to quickly work out on paper how to turn numbers between 0 and 1 to between other values. "
   ]
  },
  {
   "cell_type": "code",
   "execution_count": 79,
   "metadata": {},
   "outputs": [],
   "source": [
    "# Skeleton\n",
    "def generate_uniform(N,x_min,x_max):\n",
    "    out = []\n",
    "    ### BEGIN SOLUTION\n",
    "\n",
    "    #this makes a random number between the max and min\n",
    "    out=[random.uniform(x_min, x_max) for _ in range(N)]\n",
    "    \n",
    "    ### END SOLUTION\n",
    "    return out"
   ]
  },
  {
   "cell_type": "code",
   "execution_count": 80,
   "metadata": {},
   "outputs": [
    {
     "name": "stdout",
     "output_type": "stream",
     "text": [
      "Data Type: <class 'list'>\n",
      "Data Length: 1000\n",
      "Type of Data Contents: <class 'float'>\n",
      "Data Minimum: -9.976678892206793\n",
      "Data Maximum: 9.997634103066794\n"
     ]
    }
   ],
   "source": [
    "# Test your solution here\n",
    "data=generate_uniform(1000,-10,10)\n",
    "print (\"Data Type:\", type(data))\n",
    "print (\"Data Length:\", len(data))\n",
    "if len(data)>0: \n",
    "    print (\"Type of Data Contents:\", type(data[0]))\n",
    "    print (\"Data Minimum:\", min(data))\n",
    "    print (\"Data Maximum:\", max(data))"
   ]
  },
  {
   "cell_type": "markdown",
   "metadata": {},
   "source": [
    "*Exercise 2a:* \n",
    "Write a function that computes the mean of values in a list. Recall the equation for the mean of a random variable $\\bf{x}$ computed on a data set of $n$ values $\\{ x_i \\} = \\{x_1, x_2, ..., x_n\\}$  is ${\\bf\\bar{x}} = \\frac{1}{n} \\sum_i^n x_i$."
   ]
  },
  {
   "cell_type": "code",
   "execution_count": 81,
   "metadata": {},
   "outputs": [],
   "source": [
    "# Skeleton\n",
    "def mean(Data):\n",
    "    m=0.\n",
    "    \n",
    "    ### BEGIN SOLUTION\n",
    "\n",
    "    #this checks for an empty list so there isn't division by 0\n",
    "    m=sum(Data)/len(Data) if len(Data)>0 else 0\n",
    "    \n",
    "    ### END SOLUTION\n",
    "    \n",
    "    return m"
   ]
  },
  {
   "cell_type": "code",
   "execution_count": 82,
   "metadata": {},
   "outputs": [
    {
     "name": "stdout",
     "output_type": "stream",
     "text": [
      "Mean of Data: 0.005296494039610822\n"
     ]
    }
   ],
   "source": [
    "# Test your solution here\n",
    "print (\"Mean of Data:\", mean(data))"
   ]
  },
  {
   "cell_type": "markdown",
   "metadata": {},
   "source": [
    "*Exercise 2b:* \n",
    "Write a function that computes the variance of values in a list. Recall the equation for the variance of a random variable $\\bf{x}$ computed on a data set of $n$ values $\\{ x_i \\} = \\{x_1, x_2, ..., x_n\\}$  is ${\\bf\\langle x \\rangle} = \\frac{1}{n} \\sum_i^n (x_i - {\\bf\\bar{x}})$."
   ]
  },
  {
   "cell_type": "code",
   "execution_count": 83,
   "metadata": {},
   "outputs": [],
   "source": [
    "# Skeleton\n",
    "def variance(Data):\n",
    "    m=0.\n",
    "    \n",
    "    ### BEGIN SOLUTION\n",
    "\n",
    "    #this calculates the mean\n",
    "    mean_value=sum(Data)/len(Data) if len(Data)>0 else 0\n",
    "    #varience formula\n",
    "    m=sum((x-mean_value)**2 for x in Data)/len(Data) if len(Data)>0 else 0\n",
    "    \n",
    "    ### END SOLUTION\n",
    "    \n",
    "    return m"
   ]
  },
  {
   "cell_type": "code",
   "execution_count": 84,
   "metadata": {},
   "outputs": [
    {
     "name": "stdout",
     "output_type": "stream",
     "text": [
      "Variance of Data: 33.21834828801902\n"
     ]
    }
   ],
   "source": [
    "# Test your solution here\n",
    "print (\"Variance of Data:\", variance(data))"
   ]
  },
  {
   "cell_type": "markdown",
   "metadata": {},
   "source": [
    "## Histogramming"
   ]
  },
  {
   "cell_type": "markdown",
   "metadata": {},
   "source": [
    "*Exercise 3:* Write a function that bins the data so that you can create a histogram. An example of how to implement histogramming is the following logic:\n",
    "\n",
    "* User inputs a list of values `x` and optionally `n_bins` which defaults to 10.\n",
    "* If not supplied, find the minimum and maximum (`x_min`,`x_max`) of the values in x.\n",
    "* Determine the bin size (`bin_size`) by dividing the range of the function by the number of bins.\n",
    "* Create an empty list of zeros of size `n_bins`, call it `hist`.\n",
    "* Loop over the values in `x`\n",
    "    * Loop over the values in `hist` with index `i`:\n",
    "        * If x is between `x_min+i*bin_size` and `x_min+(i+1)*bin_size`, increment `hist[i].` \n",
    "        * For efficiency, try to use continue to goto the next bin and data point.\n",
    "* Return `hist` and the list corresponding of the bin edges (i.e. of `x_min+i*bin_size`).    "
   ]
  },
  {
   "cell_type": "code",
   "execution_count": 85,
   "metadata": {},
   "outputs": [],
   "source": [
    "# Solution\n",
    "def histogram(x,n_bins=10,x_min=None,x_max=None):\n",
    "    ### BEGIN SOLUTION\n",
    "    \n",
    "    #sets x_min to min value when not given\n",
    "    if x_min is None:\n",
    "        x_min=min(x)\n",
    "    #sets x_max to max value when not given\n",
    "    if x_max is None:\n",
    "        x_max=max(x)\n",
    "\n",
    "    bin_size=(x_max-x_min)/n_bins #calculates bin size\n",
    "    hist=[0]*n_bins #starts histogram with zeros\n",
    "    bin_edges=[x_min+i*bin_size for i in range(n_bins+1)] #calculates bin edges\n",
    "\n",
    "    for value in x:\n",
    "        for i in range(n_bins):\n",
    "            #if the value is in between the current bin\n",
    "            if x_min+i*bin_size<=value<x_min+(i+1)*bin_size:\n",
    "                hist[i]+=1\n",
    "                break #keeps going once the bin is found\n",
    "    \n",
    "    ### END SOLUTION\n",
    "\n",
    "    return hist,bin_edges"
   ]
  },
  {
   "cell_type": "code",
   "execution_count": 86,
   "metadata": {},
   "outputs": [
    {
     "name": "stdout",
     "output_type": "stream",
     "text": [
      "[5, 14, 9, 8, 6, 8, 11, 16, 8, 13, 9, 12, 14, 5, 10, 11, 9, 14, 8, 6, 8, 12, 13, 7, 9, 12, 9, 14, 13, 11, 10, 8, 9, 10, 16, 7, 10, 15, 14, 9, 9, 8, 9, 9, 12, 5, 8, 7, 8, 12, 14, 7, 9, 15, 9, 9, 9, 11, 11, 11, 10, 13, 4, 13, 12, 7, 6, 11, 9, 7, 13, 14, 12, 11, 9, 8, 9, 9, 8, 9, 7, 10, 10, 11, 14, 5, 10, 15, 14, 4, 8, 8, 9, 10, 10, 11, 13, 20, 4, 8]\n"
     ]
    }
   ],
   "source": [
    "# Test your solution here\n",
    "h,b=histogram(data,100)\n",
    "print(h)"
   ]
  },
  {
   "cell_type": "markdown",
   "metadata": {},
   "source": [
    "*Exercise 4:* Write a function that uses the histogram function in the previous exercise to create a text-based \"graph\". For example the output could look like the following:\n",
    "```\n",
    "[  0,  1] : ######\n",
    "[  1,  2] : #####\n",
    "[  2,  3] : ######\n",
    "[  3,  4] : ####\n",
    "[  4,  5] : ####\n",
    "[  5,  6] : ######\n",
    "[  6,  7] : #####\n",
    "[  7,  8] : ######\n",
    "[  8,  9] : ####\n",
    "[  9, 10] : #####\n",
    "```\n",
    "\n",
    "Where each line corresponds to a bin and the number of `#`'s are proportional to the value of the data in the bin. "
   ]
  },
  {
   "cell_type": "code",
   "execution_count": 87,
   "metadata": {},
   "outputs": [],
   "source": [
    "# Solution\n",
    "def draw_histogram(x,n_bins,x_min=None,x_max=None,character=\"#\",max_character_per_line=20):\n",
    "    ### BEGIN SOLUTION\n",
    "\n",
    "    #computes histogram and bin edges\n",
    "    hist, bin_edges=histogram(x, n_bins, x_min, x_max)\n",
    "\n",
    "    #finds maximum frequency in histogram\n",
    "    max_count=max(hist) if hist else 1 #stops division by 0\n",
    "\n",
    "    #create histogram\n",
    "    for i in range(n_bins):\n",
    "        #calculates number of characters to number of items in bin\n",
    "        num_characters=int(hist[i]/max_count*max_character_per_line) if max_count>0 else 0\n",
    "        #formats bin range and prints corresponding number of characters\n",
    "        print(f\"[{bin_edges[i]:>2.0f}, {bin_edges[i+1]:2.0f}] : {character*num_characters}\")\n",
    "    \n",
    "    ### END SOLUTION\n",
    "\n",
    "    return hist,bin_edges"
   ]
  },
  {
   "cell_type": "code",
   "execution_count": 88,
   "metadata": {},
   "outputs": [
    {
     "name": "stdout",
     "output_type": "stream",
     "text": [
      "[-10, -9] : #################\n",
      "[-9, -8] : ##################\n",
      "[-8, -7] : ##############\n",
      "[-7, -6] : ##############\n",
      "[-6, -5] : ###############\n",
      "[-5, -4] : ###############\n",
      "[-4, -3] : ##############\n",
      "[-3, -2] : ################\n",
      "[-2, -1] : #############\n",
      "[-1,  0] : ####################\n",
      "[ 0,  1] : ###############\n",
      "[ 1,  2] : ###############\n",
      "[ 2,  3] : ############\n",
      "[ 3,  4] : ############\n",
      "[ 4,  5] : ##################\n",
      "[ 5,  6] : ##################\n",
      "[ 6,  7] : ####################\n",
      "[ 7,  8] : #################\n",
      "[ 8,  9] : ##############\n",
      "[ 9, 10] : ############\n"
     ]
    },
    {
     "data": {
      "text/plain": [
       "([55,\n",
       "  58,\n",
       "  47,\n",
       "  45,\n",
       "  48,\n",
       "  50,\n",
       "  46,\n",
       "  51,\n",
       "  44,\n",
       "  63,\n",
       "  48,\n",
       "  50,\n",
       "  38,\n",
       "  40,\n",
       "  58,\n",
       "  57,\n",
       "  63,\n",
       "  55,\n",
       "  45,\n",
       "  38],\n",
       " [-9.991360758442237,\n",
       "  -8.991903372048842,\n",
       "  -7.992445985655449,\n",
       "  -6.992988599262054,\n",
       "  -5.9935312128686595,\n",
       "  -4.994073826475265,\n",
       "  -3.9946164400818702,\n",
       "  -2.995159053688476,\n",
       "  -1.9957016672950818,\n",
       "  -0.9962442809016867,\n",
       "  0.0032131054917066137,\n",
       "  1.0026704918851017,\n",
       "  2.002127878278497,\n",
       "  3.00158526467189,\n",
       "  4.001042651065285,\n",
       "  5.0005000374586785,\n",
       "  5.999957423852074,\n",
       "  6.999414810245469,\n",
       "  7.998872196638864,\n",
       "  8.998329583032255,\n",
       "  9.99778696942565])"
      ]
     },
     "execution_count": 88,
     "metadata": {},
     "output_type": "execute_result"
    }
   ],
   "source": [
    "# Test your solution here\n",
    "h,b=histogram(data,20)\n",
    "data=generate_uniform(1000, -10, 10)\n",
    "draw_histogram(data, 20)"
   ]
  },
  {
   "cell_type": "markdown",
   "metadata": {},
   "source": [
    "## Functional Programming\n",
    "\n",
    "*Exercise 5:* Write a function the applies a booling function (that returns true/false) to every element in data, and return a list of indices of elements where the result was true. Use this function to find the indices of entries greater than 0.5. "
   ]
  },
  {
   "cell_type": "code",
   "execution_count": 89,
   "metadata": {},
   "outputs": [],
   "source": [
    "def where(mylist,myfunc):\n",
    "    out= []\n",
    "    \n",
    "    ### BEGIN SOLUTION\n",
    "\n",
    "    for i, value in enumerate(mylist):\n",
    "        if myfunc(value):\n",
    "            out.append(i) #stores index where the fraction comes back True\n",
    "    \n",
    "    ### END SOLUTION\n",
    "    \n",
    "    return out"
   ]
  },
  {
   "cell_type": "code",
   "execution_count": 90,
   "metadata": {},
   "outputs": [
    {
     "name": "stdout",
     "output_type": "stream",
     "text": [
      "Indices values greater than 0.5: [3, 4, 5, 8, 9, 10, 11, 12, 15, 16, 17, 19, 24, 25, 30, 32, 33, 34, 37, 39, 41, 42, 45, 46, 48, 54, 55, 56, 57, 58, 59, 60, 61, 62, 63, 65, 66, 70, 72, 74, 82, 83, 87, 92, 93, 97, 98, 100, 101, 103, 104, 105, 106, 107, 108, 110, 114, 115, 120, 122, 123, 127, 128, 131, 132, 134, 135, 136, 139, 140, 141, 142, 144, 146, 149, 151, 152, 153, 154, 155, 156, 158, 162, 165, 167, 168, 169, 173, 176, 177, 181, 189, 196, 197, 198, 200, 201, 203, 206, 207, 208, 210, 211, 213, 218, 219, 221, 223, 228, 230, 231, 232, 233, 234, 235, 239, 242, 247, 249, 254, 255, 256, 258, 259, 264, 265, 268, 272, 273, 274, 276, 277, 278, 284, 286, 290, 295, 296, 297, 298, 302, 303, 308, 309, 313, 314, 315, 317, 319, 320, 323, 325, 327, 329, 334, 335, 336, 337, 340, 343, 344, 345, 349, 351, 352, 353, 354, 358, 359, 360, 365, 366, 368, 369, 371, 372, 373, 374, 375, 376, 377, 380, 381, 383, 384, 385, 386, 396, 399, 401, 402, 403, 405, 411, 417, 419, 421, 423, 427, 429, 431, 432, 433, 435, 439, 441, 445, 447, 448, 450, 451, 452, 454, 456, 457, 459, 460, 462, 464, 468, 472, 473, 475, 477, 480, 482, 484, 488, 490, 492, 493, 494, 496, 498, 502, 503, 505, 506, 507, 508, 509, 515, 519, 520, 521, 523, 527, 528, 529, 531, 535, 536, 537, 543, 548, 550, 551, 552, 555, 556, 558, 559, 561, 562, 564, 566, 572, 575, 579, 580, 581, 584, 586, 589, 592, 593, 595, 596, 597, 598, 600, 606, 608, 609, 611, 612, 614, 615, 616, 617, 618, 619, 625, 626, 627, 628, 630, 631, 635, 637, 639, 641, 643, 647, 649, 650, 651, 654, 655, 656, 658, 665, 669, 670, 672, 673, 674, 675, 677, 678, 680, 681, 682, 683, 684, 687, 691, 695, 699, 700, 703, 705, 707, 713, 715, 716, 718, 722, 724, 726, 729, 730, 733, 734, 735, 737, 738, 741, 742, 743, 744, 745, 747, 752, 753, 757, 760, 761, 771, 772, 775, 777, 781, 784, 786, 789, 792, 793, 795, 800, 801, 802, 807, 809, 811, 819, 821, 822, 823, 824, 826, 830, 834, 835, 838, 843, 844, 849, 853, 854, 856, 857, 858, 860, 861, 862, 863, 864, 865, 866, 874, 877, 880, 882, 887, 889, 894, 895, 896, 900, 901, 902, 903, 904, 905, 907, 908, 909, 915, 922, 925, 926, 928, 929, 933, 934, 935, 938, 939, 944, 945, 947, 950, 951, 953, 954, 955, 956, 958, 959, 960, 963, 964, 967, 971, 972, 973, 974, 975, 977, 978, 979, 981, 982, 988, 991, 995, 999]\n"
     ]
    }
   ],
   "source": [
    "# Test your solution here\n",
    "\n",
    "data=generate_uniform(1000, -10, 10) \n",
    "indices=where(data, lambda x: x>0.5) #finds indices where values are greater than 0.5\n",
    "print(\"Indices values greater than 0.5:\", indices)"
   ]
  },
  {
   "cell_type": "markdown",
   "metadata": {},
   "source": [
    "*Exercise 6:* The `inrange(mymin,mymax)` function below returns a function that tests if it's input is between the specified values. Write corresponding functions that test:\n",
    "* Even\n",
    "* Odd\n",
    "* Greater than\n",
    "* Less than\n",
    "* Equal\n",
    "* Divisible by"
   ]
  },
  {
   "cell_type": "code",
   "execution_count": 91,
   "metadata": {},
   "outputs": [
    {
     "name": "stdout",
     "output_type": "stream",
     "text": [
      "True True False False False\n",
      "False False True True False\n",
      "Number of Entries passing F1: 483\n",
      "Number of Entries passing F2: 0\n"
     ]
    }
   ],
   "source": [
    "def in_range(mymin,mymax):\n",
    "    def testrange(x):\n",
    "        return x<mymax and x>=mymin\n",
    "    return testrange\n",
    "\n",
    "# Examples:\n",
    "F1=in_range(0,10)\n",
    "F2=in_range(10,20)\n",
    "\n",
    "# Test of in_range\n",
    "print (F1(0), F1(1), F1(10), F1(15), F1(20))\n",
    "print (F2(0), F2(1), F2(10), F2(15), F2(20))\n",
    "\n",
    "print (\"Number of Entries passing F1:\", len(where(data,F1)))\n",
    "print (\"Number of Entries passing F2:\", len(where(data,F2)))"
   ]
  },
  {
   "cell_type": "code",
   "execution_count": 92,
   "metadata": {},
   "outputs": [],
   "source": [
    "### BEGIN SOLUTION\n",
    "\n",
    "def is_even():\n",
    "    def test_even(x):\n",
    "        return x%2==0\n",
    "    return test_even\n",
    "def is_odd():\n",
    "    def test_odd(x):\n",
    "        return x%2!=0\n",
    "    return test_odd\n",
    "def greater_than(value):\n",
    "    def test_greater(x):\n",
    "        return x>value\n",
    "    return test_greater\n",
    "def less_than(value):\n",
    "    def test_less(x):\n",
    "        return x<value\n",
    "    return test_less\n",
    "def equal_to(value):\n",
    "    def test_equal(x):\n",
    "        return x==value\n",
    "    return test_equal\n",
    "def divisible_by(value):\n",
    "    def test_divisible(x):\n",
    "        return x%value==0\n",
    "    return test_divisible\n",
    "    \n",
    "### END SOLUTION"
   ]
  },
  {
   "cell_type": "code",
   "execution_count": 93,
   "metadata": {},
   "outputs": [
    {
     "name": "stdout",
     "output_type": "stream",
     "text": [
      "Total even numbers: 0\n",
      "Total odd numbers: 100\n",
      "Total of numbers greater than 5: 31\n",
      "Total of numbers less than 5: 69\n",
      "Total of numbers equal to 10: 0\n",
      "Total of numbers divisible by 3: 0\n"
     ]
    }
   ],
   "source": [
    "# Test your solution\n",
    "\n",
    "F_even=is_even()\n",
    "F_odd=is_odd()\n",
    "F_greater_5=greater_than(5)\n",
    "F_less_5=less_than(5)\n",
    "F_equal_10=equal_to(10)\n",
    "F_div_by_3=divisible_by(3)\n",
    "data=generate_uniform(100, -10, 10)\n",
    "\n",
    "print(\"Total even numbers:\", len(where(data, F_even)))\n",
    "print(\"Total odd numbers:\", len(where(data, F_odd)))\n",
    "print(\"Total of numbers greater than 5:\", len(where(data, F_greater_5)))\n",
    "print(\"Total of numbers less than 5:\", len(where(data, F_less_5)))\n",
    "print(\"Total of numbers equal to 10:\", len(where(data, F_equal_10)))\n",
    "print(\"Total of numbers divisible by 3:\", len(where(data, F_div_by_3)))"
   ]
  },
  {
   "cell_type": "markdown",
   "metadata": {},
   "source": [
    "*Exercise 7:* Repeat the previous exercise using `lambda` and the built-in python functions sum and map instead of your solution above. "
   ]
  },
  {
   "cell_type": "code",
   "execution_count": 94,
   "metadata": {},
   "outputs": [
    {
     "name": "stdout",
     "output_type": "stream",
     "text": [
      "Total even numbers: 0\n",
      "Total odd numbers: 100\n",
      "Total of numbers greater than 5: 30\n",
      "Total of numbers less than 5: 70\n",
      "Total of numbers equal to 10: 0\n",
      "Total of numbers divisible by 3: 0\n"
     ]
    }
   ],
   "source": [
    "### BEGIN SOLUTION\n",
    "\n",
    "#inputing lambda for the conditions\n",
    "F_even=lambda x: x%2==0\n",
    "F_odd=lambda x: x%2!=0\n",
    "F_greater_5=lambda x: x>5\n",
    "F_less_5=lambda x: x<5\n",
    "F_equal_10=lambda x: x==10\n",
    "F_div_by_3=lambda x: x%3==0\n",
    "\n",
    "data=generate_uniform(100, -10, 10)\n",
    "\n",
    "#using map and sum to count occurrences\n",
    "count_even=sum(map(F_even, data))\n",
    "count_odd=sum(map(F_odd, data))\n",
    "count_greater_5=sum(map(F_greater_5, data))\n",
    "count_less_5=sum(map(F_less_5, data))\n",
    "count_equal_10=sum(map(F_equal_10, data))\n",
    "count_div_by_3=sum(map(F_div_by_3, data))\n",
    "\n",
    "print(\"Total even numbers:\", count_even)\n",
    "print(\"Total odd numbers:\", count_odd)\n",
    "print(\"Total of numbers greater than 5:\", count_greater_5)\n",
    "print(\"Total of numbers less than 5:\", count_less_5)\n",
    "print(\"Total of numbers equal to 10:\", count_equal_10)\n",
    "print(\"Total of numbers divisible by 3:\", count_div_by_3)\n",
    "\n",
    "### END SOLUTION"
   ]
  },
  {
   "cell_type": "markdown",
   "metadata": {},
   "source": [
    "## Monte Carlo\n",
    "\n",
    "*Exercise 7:* Write a \"generator\" function called `generate_function(func,x_min,x_max,N)`, that instead of generating a flat distribution, generates a distribution with functional form coded in `func`. Note that `func` will always be > 0.  \n",
    "\n",
    "Use the test function below and your histogramming functions above to demonstrate that your generator is working properly.\n",
    "\n",
    "Hint: A simple, but slow, solution is to a draw random number `test_x` within the specified range and another number `p` between the `min` and `max` of the function (which you will have to determine). If `p<=function(test_x)`, then place `test_x` on the output. If not, repeat the process, drawing two new numbers. Repeat until you have the specified number of generated numbers, `N`. For this problem, it's OK to determine the `min` and `max` by numerically sampling the function.  "
   ]
  },
  {
   "cell_type": "code",
   "execution_count": 95,
   "metadata": {},
   "outputs": [],
   "source": [
    "def generate_function(func,x_min,x_max,N=1000):\n",
    "    out = list()\n",
    "    ### BEGIN SOLUTION\n",
    "\n",
    "    #determine max values by sampling\n",
    "    num_samples=1000\n",
    "    sample_x=[random.uniform(x_min, x_max) for _ in range(num_samples)]\n",
    "    sample_y=[func(x) for x in sample_x]\n",
    "    f_max=max(sample_y) #approximates maximum\n",
    "\n",
    "    #generates N values \n",
    "    while len(out)<N:\n",
    "        test_x=random.uniform(x_min, x_max) #random x in range\n",
    "        p=random.uniform(0, f_max) #random p between 0 and max\n",
    "\n",
    "        if p<= func(test_x):\n",
    "            out.append(test_x)\n",
    "        \n",
    "    \n",
    "    ### END SOLUTION\n",
    "    \n",
    "    return out"
   ]
  },
  {
   "cell_type": "code",
   "execution_count": 96,
   "metadata": {},
   "outputs": [
    {
     "name": "stdout",
     "output_type": "stream",
     "text": [
      "[-10, -9] : ###################\n",
      "[-9, -8] : ##############\n",
      "[-8, -7] : ###########\n",
      "[-7, -6] : ##########\n",
      "[-6, -5] : ##########\n",
      "[-5, -4] : #######\n",
      "[-4, -3] : ###\n",
      "[-3, -2] : ##\n",
      "[-2, -1] : \n",
      "[-1,  0] : #\n",
      "[ 0,  1] : ###\n",
      "[ 1,  2] : ####\n",
      "[ 2,  3] : #######\n",
      "[ 3,  4] : ######\n",
      "[ 4,  5] : #########\n",
      "[ 5,  6] : ############\n",
      "[ 6,  7] : #################\n",
      "[ 7,  8] : ################\n",
      "[ 8,  9] : ################\n",
      "[ 9, 10] : ####################\n"
     ]
    },
    {
     "data": {
      "text/plain": [
       "([99,\n",
       "  72,\n",
       "  60,\n",
       "  54,\n",
       "  51,\n",
       "  40,\n",
       "  19,\n",
       "  11,\n",
       "  5,\n",
       "  7,\n",
       "  16,\n",
       "  22,\n",
       "  38,\n",
       "  31,\n",
       "  48,\n",
       "  65,\n",
       "  91,\n",
       "  83,\n",
       "  85,\n",
       "  102],\n",
       " [-9.979129414511867,\n",
       "  -8.980989743499558,\n",
       "  -7.982850072487247,\n",
       "  -6.984710401474938,\n",
       "  -5.9865707304626286,\n",
       "  -4.988431059450319,\n",
       "  -3.99029138843801,\n",
       "  -2.9921517174257,\n",
       "  -1.9940120464133901,\n",
       "  -0.9958723754010812,\n",
       "  0.002267295611229514,\n",
       "  1.0004069666235385,\n",
       "  1.9985466376358474,\n",
       "  2.996686308648158,\n",
       "  3.994825979660467,\n",
       "  4.992965650672778,\n",
       "  5.991105321685087,\n",
       "  6.989244992697397,\n",
       "  7.987384663709705,\n",
       "  8.985524334722015,\n",
       "  9.983664005734326])"
      ]
     },
     "execution_count": 96,
     "metadata": {},
     "output_type": "execute_result"
    }
   ],
   "source": [
    "# A test function\n",
    "def test_func(x,a=1,b=1):\n",
    "    return abs(a*x+b)\n",
    "\n",
    "data=generate_function(test_func, -10, 10, 1000)\n",
    "#testing histogram\n",
    "h, b=histogram(data, 20)\n",
    "draw_histogram(data, 20)"
   ]
  },
  {
   "cell_type": "markdown",
   "metadata": {},
   "source": [
    "*Exercise 8:* Use your function to generate 1000 numbers that are normal distributed, using the `gaussian` function below. Confirm the mean and variance of the data is close to the mean and variance you specify when building the Gaussian. Histogram the data. "
   ]
  },
  {
   "cell_type": "code",
   "execution_count": 97,
   "metadata": {},
   "outputs": [
    {
     "name": "stdout",
     "output_type": "stream",
     "text": [
      "Computed mean: -0.003874980232248216\n",
      "Computed variance: 0.8980493584704928\n",
      "[-2.6, -2.4] : \n",
      "[-2.4, -2.1] : #\n",
      "[-2.1, -1.8] : ###\n",
      "[-1.8, -1.5] : ####\n",
      "[-1.5, -1.2] : #######\n",
      "[-1.2, -1.0] : ##########\n",
      "[-1.0, -0.7] : #############\n",
      "[-0.7, -0.4] : ################\n",
      "[-0.4, -0.1] : ##################\n",
      "[-0.1, 0.2] : #################\n",
      "[0.2, 0.4] : ####################\n",
      "[0.4, 0.7] : ###############\n",
      "[0.7, 1.0] : ##############\n",
      "[1.0, 1.3] : #########\n",
      "[1.3, 1.6] : ######\n",
      "[1.6, 1.8] : ###\n",
      "[1.8, 2.1] : ##\n",
      "[2.1, 2.4] : #\n",
      "[2.4, 2.7] : \n",
      "[2.7, 3.0] : \n",
      "/nComputed mean: 9.969854602099307\n",
      "Computed variance: 9.4031853404087\n",
      "[0.5, 1.5] : \n",
      "[1.5, 2.5] : \n",
      "[2.5, 3.4] : #\n",
      "[3.4, 4.4] : ###\n",
      "[4.4, 5.4] : ####\n",
      "[5.4, 6.3] : #########\n",
      "[6.3, 7.3] : ##############\n",
      "[7.3, 8.3] : ##############\n",
      "[8.3, 9.2] : ################\n",
      "[9.2, 10.2] : ####################\n",
      "[10.2, 11.2] : ##################\n",
      "[11.2, 12.1] : ###################\n",
      "[12.1, 13.1] : ##############\n",
      "[13.1, 14.1] : ########\n",
      "[14.1, 15.0] : #######\n",
      "[15.0, 16.0] : ###\n",
      "[16.0, 16.9] : ##\n",
      "[16.9, 17.9] : \n",
      "[17.9, 18.9] : \n",
      "[18.9, 19.8] : \n"
     ]
    }
   ],
   "source": [
    "import math\n",
    "\n",
    "def gaussian(mean, sigma):\n",
    "    def f(x):\n",
    "        return math.exp(-((x-mean)**2)/(2*sigma**2))/math.sqrt(math.pi*sigma)\n",
    "    return f\n",
    "\n",
    "#generates numbers\n",
    "def generate_function(func, x_min, x_max, N=1000):\n",
    "    out=[]\n",
    "    #approximates max value using random samples\n",
    "    f_max=max(func(random.uniform(x_min, x_max)) for _ in range(100))\n",
    "    \n",
    "    while len(out)<N:\n",
    "        test_x=random.uniform(x_min, x_max)\n",
    "        p=random.uniform(0, f_max)\n",
    "        \n",
    "        if p<=func(test_x): \n",
    "            out.append(test_x)\n",
    "    return out\n",
    "\n",
    "#computes mean\n",
    "def mean(data):\n",
    "    return sum(data)/len(data)\n",
    "\n",
    "#computes variance\n",
    "def variance(data):\n",
    "    m=mean(data)\n",
    "    return sum((x-m)**2 for x in data)/(len(data)-1)\n",
    "    \n",
    "#creates simple histogram\n",
    "def histogram(data, n_bins=10):\n",
    "    x_min, x_max=min(data), max(data)\n",
    "    bin_size=(x_max-x_min)/n_bins\n",
    "    bins=[0]*n_bins\n",
    "\n",
    "    for x in data:\n",
    "        index=int((x-x_min)/bin_size)\n",
    "        if index==n_bins:\n",
    "            index-=1\n",
    "        bins[index]+=1\n",
    "    return bins, [x_min+i*bin_size for i in range(n_bins+1)]\n",
    "\n",
    "#prints text-based histogram\n",
    "def draw_histogram(data, n_bins=10, character='#', max_chars=20):\n",
    "    hist, bin_edges=histogram(data, n_bins)\n",
    "    max_count=max(hist)\n",
    "\n",
    "    for i in range(n_bins):\n",
    "        bar_length=int((hist[i]/max_count)*max_chars)\n",
    "        print(f\"[{bin_edges[i]:.1f}, {bin_edges[i+1]:.1f}] : {'#'*bar_length}\")\n",
    "\n",
    "# Example Instantiation\n",
    "g1=gaussian(0,1)\n",
    "g2=gaussian(10,3)\n",
    "\n",
    "data_g1=generate_function(g1, -5, 5, 1000)\n",
    "data_g2=generate_function(g2, 0, 20, 1000)\n",
    "\n",
    "#g1 results\n",
    "print(\"Computed mean:\", mean(data_g1))\n",
    "print(\"Computed variance:\", variance(data_g1))\n",
    "draw_histogram(data_g1, 20)\n",
    "\n",
    "#g2 results\n",
    "print(\"/nComputed mean:\", mean(data_g2))\n",
    "print(\"Computed variance:\", variance(data_g2))\n",
    "draw_histogram(data_g2, 20)"
   ]
  },
  {
   "cell_type": "markdown",
   "metadata": {},
   "source": [
    "*Exercise 9:* Combine your `generate_function`, `where`, and `in_range` functions above to create an integrate function. Use your integrate function to show that approximately 68% of Normal distribution is within one variance."
   ]
  },
  {
   "cell_type": "code",
   "execution_count": 100,
   "metadata": {},
   "outputs": [
    {
     "name": "stdout",
     "output_type": "stream",
     "text": [
      "Approximated integral: 0.685\n"
     ]
    }
   ],
   "source": [
    "def integrate(func, x_min, x_max, n_points=1000):\n",
    "    data=generate_function(func, x_min-5, x_max+5, n_points) #generates values\n",
    "    F=in_range(x_min, x_max) #range checker\n",
    "    indices=where(data, F) #gets indices of points in range\n",
    "    integral=len(indices)/len(data) #approximates integral\n",
    "    return integral\n",
    "\n",
    "#example\n",
    "g=gaussian(0, 1)\n",
    "integral_result=integrate(g, -1, 1, 10000) #approximates within [-1, 1]\n",
    "print(\"Approximated integral:\", integral_result) #should be close to 0.68"
   ]
  },
  {
   "cell_type": "code",
   "execution_count": null,
   "metadata": {},
   "outputs": [],
   "source": []
  }
 ],
 "metadata": {
  "kernelspec": {
   "display_name": "Python 3 (ipykernel)",
   "language": "python",
   "name": "python3"
  },
  "language_info": {
   "codemirror_mode": {
    "name": "ipython",
    "version": 3
   },
   "file_extension": ".py",
   "mimetype": "text/x-python",
   "name": "python",
   "nbconvert_exporter": "python",
   "pygments_lexer": "ipython3",
   "version": "3.13.1"
  }
 },
 "nbformat": 4,
 "nbformat_minor": 4
}
