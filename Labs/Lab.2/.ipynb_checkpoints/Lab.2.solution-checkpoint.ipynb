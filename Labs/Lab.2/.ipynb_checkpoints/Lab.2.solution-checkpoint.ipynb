{
 "cells": [
  {
   "cell_type": "markdown",
   "metadata": {},
   "source": [
    "## Lab 2- Tic Tac Toe\n",
    "\n",
    "# Melissa Tobias\n",
    "\n",
    "In this lab your will build a n x n Tic Tac Toe game. As you do the exercises, make sure your solutions work for any size Tic Tac Toe game. "
   ]
  },
  {
   "cell_type": "markdown",
   "metadata": {},
   "source": [
    "*Exercise 1:* Write a function that creates an n by n matrix (of list of lists) which will represent the state of a Tie Tac Toe game. Let 0, 1, and 2 represent empty, \"X\", and \"O\", respectively.\n"
   ]
  },
  {
   "cell_type": "code",
   "execution_count": 79,
   "metadata": {},
   "outputs": [],
   "source": [
    "#Write your solution here\n",
    "\n",
    "#this will create a board of whatever size you want to play on \n",
    "def create_board(n):\n",
    "    return [[0]*n for _ in range(n)]"
   ]
  },
  {
   "cell_type": "code",
   "execution_count": 80,
   "metadata": {},
   "outputs": [
    {
     "name": "stdout",
     "output_type": "stream",
     "text": [
      "[0, 0, 0]\n",
      "[0, 0, 0]\n",
      "[0, 0, 0]\n"
     ]
    }
   ],
   "source": [
    "# Test your solution here\n",
    "\n",
    "board=create_board(3)\n",
    "for row in board:\n",
    "    print(row)"
   ]
  },
  {
   "cell_type": "markdown",
   "metadata": {},
   "source": [
    "*Exercise 2:* Write a function that takes 2 integers `n` and `m` as input and draws a `n` by `m` game board. For example the following is a 3x3 board:\n",
    "```\n",
    "   --- --- --- \n",
    "  |   |   |   | \n",
    "   --- --- ---  \n",
    "  |   |   |   | \n",
    "   --- --- ---  \n",
    "  |   |   |   | \n",
    "   --- --- --- \n",
    "   ```"
   ]
  },
  {
   "cell_type": "code",
   "execution_count": 81,
   "metadata": {},
   "outputs": [],
   "source": [
    "# Write your solution here\n",
    "\n",
    "def empty_board(n, m):\n",
    "    for i in range(n):\n",
    "        print(\" ---\"*m) #horizontal lines\n",
    "        print(\"|   \"*(m+1)) #vertical lines\n",
    "    print(\" ---\"*m) #bottom line"
   ]
  },
  {
   "cell_type": "code",
   "execution_count": 82,
   "metadata": {},
   "outputs": [
    {
     "name": "stdout",
     "output_type": "stream",
     "text": [
      " --- --- ---\n",
      "|   |   |   |   \n",
      " --- --- ---\n",
      "|   |   |   |   \n",
      " --- --- ---\n",
      "|   |   |   |   \n",
      " --- --- ---\n"
     ]
    }
   ],
   "source": [
    "# Test your solution here\n",
    "\n",
    "empty_board(3,3)"
   ]
  },
  {
   "cell_type": "markdown",
   "metadata": {},
   "source": [
    "*Exercise 3:* Modify exercise 2, so that it takes a matrix of the form from exercise 1 and draws a tic-tac-tie board with \"X\"s and \"O\"s.  "
   ]
  },
  {
   "cell_type": "code",
   "execution_count": 83,
   "metadata": {},
   "outputs": [],
   "source": [
    "# Write your solution here\n",
    "\n",
    "def draw_board(matrix):\n",
    "    symbols={0: ' ', 1: 'X', 2: 'O'} #labels the symbols for the players\n",
    "    n=len(matrix)\n",
    "\n",
    "    for row in matrix: #this will make the board\n",
    "        print(\" ---\"*n)\n",
    "        print(\"| \"+\" | \".join(symbols[cell]for cell in row)+\" |\")\n",
    "    print(\" ---\"*n)"
   ]
  },
  {
   "cell_type": "code",
   "execution_count": 84,
   "metadata": {},
   "outputs": [
    {
     "name": "stdout",
     "output_type": "stream",
     "text": [
      " --- --- ---\n",
      "|   | O | X |\n",
      " --- --- ---\n",
      "| O | X |   |\n",
      " --- --- ---\n",
      "| X | O |   |\n",
      " --- --- ---\n"
     ]
    }
   ],
   "source": [
    "# Test your solution here\n",
    "\n",
    "board=[[0, 2, 1],\n",
    "       [2, 1, 0],\n",
    "       [1, 2, 0]]\n",
    "draw_board(board)"
   ]
  },
  {
   "cell_type": "markdown",
   "metadata": {},
   "source": [
    "*Exercise 4:* Write a function that takes a `n` by `n` matrix representing a tic-tac-toe game, and returns -1, 0, 1, or 2 indicating the game is incomplete, the game is a draw, player 1 has won, or player 2 has one, respectively. Here are some example inputs you can use to test your code:"
   ]
  },
  {
   "cell_type": "code",
   "execution_count": 85,
   "metadata": {},
   "outputs": [],
   "source": [
    "# Write your solution here\n",
    "\n",
    "def check_winner(board):\n",
    "    n=len(board)\n",
    "\n",
    "    #checks rows and columns\n",
    "    for i in range(n):\n",
    "        if all(board[i][j]==board[i][0] and board[i][0] !=0 for j in range(n)):\n",
    "            return board[i][0]\n",
    "        if all(board[j][i]==board[0][i] and board[0][i] !=0 for j in range(n)):\n",
    "            return board[0][i]\n",
    "\n",
    "    #checks diagonals \n",
    "    if all(board[i][i]==board[0][0] and board[0][0] !=0 for i in range(n)):\n",
    "        return board[0][0]\n",
    "    if all(board[i][n-i-1]==board[0][n-1] and board[0][n-1] !=0 for i in range(n)):\n",
    "        return board[0][n-1]\n",
    "        \n",
    "    #checks if board is playable\n",
    "    if any(0 in row for row in board):\n",
    "        return 0\n",
    "    return -1 #id there is a tie"
   ]
  },
  {
   "cell_type": "code",
   "execution_count": 86,
   "metadata": {},
   "outputs": [
    {
     "name": "stdout",
     "output_type": "stream",
     "text": [
      "2\n",
      "1\n",
      "1\n",
      "0\n",
      "0\n"
     ]
    }
   ],
   "source": [
    "# Test your solution here\n",
    "\n",
    "winner_is_2 = [[2, 2, 0],\n",
    "\t[2, 1, 0],\n",
    "\t[2, 1, 1]]\n",
    "print(check_winner(winner_is_2))\n",
    "\n",
    "winner_is_1 = [[1, 2, 0],\n",
    "\t[2, 1, 0],\n",
    "\t[2, 1, 1]]\n",
    "print(check_winner(winner_is_1))\n",
    "\n",
    "winner_is_also_1 = [[0, 1, 0],\n",
    "\t[2, 1, 0],\n",
    "\t[2, 1, 1]]\n",
    "print(check_winner(winner_is_also_1))\n",
    "\n",
    "no_winner = [[1, 2, 0],\n",
    "\t[2, 1, 0],\n",
    "\t[2, 1, 2]]\n",
    "print(check_winner(no_winner))\n",
    "\n",
    "also_no_winner = [[1, 2, 0],\n",
    "\t[2, 1, 0],\n",
    "\t[2, 1, 0]]\n",
    "print(check_winner(also_no_winner))"
   ]
  },
  {
   "cell_type": "code",
   "execution_count": 87,
   "metadata": {},
   "outputs": [],
   "source": [
    "winner_is_2 = [[2, 2, 0],\n",
    "\t[2, 1, 0],\n",
    "\t[2, 1, 1]]\n",
    "\n",
    "winner_is_1 = [[1, 2, 0],\n",
    "\t[2, 1, 0],\n",
    "\t[2, 1, 1]]\n",
    "\n",
    "winner_is_also_1 = [[0, 1, 0],\n",
    "\t[2, 1, 0],\n",
    "\t[2, 1, 1]]\n",
    "\n",
    "no_winner = [[1, 2, 0],\n",
    "\t[2, 1, 0],\n",
    "\t[2, 1, 2]]\n",
    "\n",
    "also_no_winner = [[1, 2, 0],\n",
    "\t[2, 1, 0],\n",
    "\t[2, 1, 0]]"
   ]
  },
  {
   "cell_type": "markdown",
   "metadata": {},
   "source": [
    "*Exercise 5:* Write a function that takes a game board, player number, and `(x,y)` coordinates and places \"X\" or \"O\" in the correct location of the game board. Make sure that you only allow filling previously empty locations. Return `True` or `False` to indicate successful placement of \"X\" or \"O\"."
   ]
  },
  {
   "cell_type": "code",
   "execution_count": 88,
   "metadata": {},
   "outputs": [],
   "source": [
    "# Write your solution here\n",
    "\n",
    "#checks to make sure x and o are placed in empty spots\n",
    "def place_move(board, player, x, y):\n",
    "    if board[x][y]==0:\n",
    "        board[x][y]=player\n",
    "        return True\n",
    "    return False"
   ]
  },
  {
   "cell_type": "code",
   "execution_count": 89,
   "metadata": {},
   "outputs": [
    {
     "name": "stdout",
     "output_type": "stream",
     "text": [
      "True\n",
      "False\n",
      " --- --- ---\n",
      "|   |   |   |\n",
      " --- --- ---\n",
      "|   | X |   |\n",
      " --- --- ---\n",
      "|   |   |   |\n",
      " --- --- ---\n"
     ]
    }
   ],
   "source": [
    "# Test your solution here\n",
    "\n",
    "board=create_board(3)\n",
    "print(place_move(board, 1, 1, 1))\n",
    "print(place_move(board, 2, 1, 1))\n",
    "draw_board(board)"
   ]
  },
  {
   "cell_type": "markdown",
   "metadata": {},
   "source": [
    "*Exercise 6:* Modify Exercise 3 to show column and row labels so that players can specify location using \"A2\" or \"C1\"."
   ]
  },
  {
   "cell_type": "code",
   "execution_count": 90,
   "metadata": {},
   "outputs": [],
   "source": [
    "# Write your solution here\n",
    "\n",
    "def draw_labeled_board(matrix):\n",
    "    symbols={0: ' ', 1: 'X', 2: 'O'} #labels the symbols\n",
    "    n=len(matrix)\n",
    "    #labels the columns with numbers and letters\n",
    "    print(\"    \"+\"   \".join(chr(65+i) for i in range(n)))\n",
    "\n",
    "    for i, row in enumerate(matrix):\n",
    "        print(\"  \"+\" ---\"*n)\n",
    "        print(f\"{i+1} | \"+\" | \".join(symbols[cell] for cell in row)+\" |\")\n",
    "    print(\"  \"+\" ---\"*n)"
   ]
  },
  {
   "cell_type": "code",
   "execution_count": 91,
   "metadata": {},
   "outputs": [
    {
     "name": "stdout",
     "output_type": "stream",
     "text": [
      "    A   B   C\n",
      "   --- --- ---\n",
      "1 |   | O | X |\n",
      "   --- --- ---\n",
      "2 | O | X |   |\n",
      "   --- --- ---\n",
      "3 | X | O |   |\n",
      "   --- --- ---\n"
     ]
    }
   ],
   "source": [
    "# Test your solution here\n",
    "\n",
    "board=[[0, 2, 1],\n",
    "       [2, 1, 0],\n",
    "       [1, 2, 0]]\n",
    "draw_labeled_board(board)"
   ]
  },
  {
   "cell_type": "markdown",
   "metadata": {},
   "source": [
    "*Exercise 7:* Write a function that takes a board, player number, and location specified as in exercise 6 and then calls exercise 5 to correctly modify the board.  "
   ]
  },
  {
   "cell_type": "code",
   "execution_count": 92,
   "metadata": {},
   "outputs": [],
   "source": [
    "# Write your solution here\n",
    "\n",
    "def place_move_labeled(board, player, position):\n",
    "    if len(position)<2 or not position[0].isalpha() or not position[1:].isdigit(): #checks to make sure if the input is valid\n",
    "        return False\n",
    "    row=int(position[1:])-1\n",
    "    col=ord(position[0].upper())-65\n",
    "    n=len(board)\n",
    "    if not(0<=row<n and 0<=col<n): #catches invalid coordinates\n",
    "        return False\n",
    "    return place_move(board, player, row, col)"
   ]
  },
  {
   "cell_type": "code",
   "execution_count": 93,
   "metadata": {},
   "outputs": [
    {
     "name": "stdout",
     "output_type": "stream",
     "text": [
      "True\n",
      "False\n",
      "True\n",
      "    A   B   C\n",
      "   --- --- ---\n",
      "1 | X |   |   |\n",
      "   --- --- ---\n",
      "2 |   | O |   |\n",
      "   --- --- ---\n",
      "3 |   |   |   |\n",
      "   --- --- ---\n"
     ]
    }
   ],
   "source": [
    "# Test your solution here\n",
    "\n",
    "board=create_board(3)\n",
    "print(place_move_labeled(board, 1, 'A1'))\n",
    "print(place_move_labeled(board, 2, 'A1'))\n",
    "print(place_move_labeled(board, 2, 'B2'))\n",
    "draw_labeled_board(board)"
   ]
  },
  {
   "cell_type": "markdown",
   "metadata": {},
   "source": [
    "*Exercise 8:* Write a function is called with a board and player number, takes input from the player using python's `input`, and modifies the board using your function from exercise 7. Note that you should keep asking for input until you have gotten a valid input that results in a valid move."
   ]
  },
  {
   "cell_type": "code",
   "execution_count": 94,
   "metadata": {},
   "outputs": [],
   "source": [
    "# Write your solution here\n",
    "\n",
    "#this makes sure that the players move is valid\n",
    "def get_player_move(board, player):\n",
    "    while True:\n",
    "        move=input(f\"Player {player}, please enter your move (ex: A1): \")\n",
    "        #makes sure that the move is valid\n",
    "        if place_move_labeled(board, player, move):\n",
    "            return #stops once a valid move is inputted\n",
    "        print(\"Invalid move, try again!\")"
   ]
  },
  {
   "cell_type": "code",
   "execution_count": 95,
   "metadata": {},
   "outputs": [
    {
     "name": "stdout",
     "output_type": "stream",
     "text": [
      "    A   B   C\n",
      "   --- --- ---\n",
      "1 |   |   |   |\n",
      "   --- --- ---\n",
      "2 |   |   |   |\n",
      "   --- --- ---\n",
      "3 |   |   |   |\n",
      "   --- --- ---\n"
     ]
    },
    {
     "name": "stdin",
     "output_type": "stream",
     "text": [
      "Player 1, please enter your move (ex: A1):  F1\n"
     ]
    },
    {
     "name": "stdout",
     "output_type": "stream",
     "text": [
      "Invalid move, try again!\n"
     ]
    },
    {
     "name": "stdin",
     "output_type": "stream",
     "text": [
      "Player 1, please enter your move (ex: A1):  A1\n"
     ]
    },
    {
     "name": "stdout",
     "output_type": "stream",
     "text": [
      "    A   B   C\n",
      "   --- --- ---\n",
      "1 | X |   |   |\n",
      "   --- --- ---\n",
      "2 |   |   |   |\n",
      "   --- --- ---\n",
      "3 |   |   |   |\n",
      "   --- --- ---\n"
     ]
    }
   ],
   "source": [
    "# Test your solution here\n",
    "\n",
    "board=create_board(3)\n",
    "draw_labeled_board(board)\n",
    "\n",
    "get_player_move(board, 1)\n",
    "draw_labeled_board(board)"
   ]
  },
  {
   "cell_type": "markdown",
   "metadata": {},
   "source": [
    "*Exercise 9:* Use all of the previous exercises to implement a full tic-tac-toe game, where an appropriate board is drawn, 2 players are repeatedly asked for a location coordinates of where they wish to place a mark, and the game status is checked until a player wins or a draw occurs."
   ]
  },
  {
   "cell_type": "code",
   "execution_count": 96,
   "metadata": {},
   "outputs": [],
   "source": [
    "# Write your solution here\n",
    "\n",
    "def tic_tac_toe():\n",
    "    size=3 #creates whatever size board\n",
    "    board=create_board(size)\n",
    "    draw_labeled_board(board)\n",
    "\n",
    "    player=1 #checks to make sure move is valid\n",
    "    while True:\n",
    "        get_player_move(board, player)\n",
    "        draw_labeled_board(board)\n",
    "\n",
    "        result=check_winner(board) #determines who wins the game/checks the board\n",
    "        if result==1:\n",
    "            print(\"Player 1 wins!\")\n",
    "            break\n",
    "        elif result==2:\n",
    "            print(\"player 2 wins!\")\n",
    "            break\n",
    "        elif result==-1:\n",
    "            print(\"It's a tie!\")\n",
    "            break\n",
    "\n",
    "        player=3-player #switches the players to keep playing"
   ]
  },
  {
   "cell_type": "code",
   "execution_count": 97,
   "metadata": {},
   "outputs": [
    {
     "name": "stdout",
     "output_type": "stream",
     "text": [
      "    A   B   C\n",
      "   --- --- ---\n",
      "1 |   |   |   |\n",
      "   --- --- ---\n",
      "2 |   |   |   |\n",
      "   --- --- ---\n",
      "3 |   |   |   |\n",
      "   --- --- ---\n"
     ]
    },
    {
     "name": "stdin",
     "output_type": "stream",
     "text": [
      "Player 1, please enter your move (ex: A1):  G5\n"
     ]
    },
    {
     "name": "stdout",
     "output_type": "stream",
     "text": [
      "Invalid move, try again!\n"
     ]
    },
    {
     "name": "stdin",
     "output_type": "stream",
     "text": [
      "Player 1, please enter your move (ex: A1):  A1\n"
     ]
    },
    {
     "name": "stdout",
     "output_type": "stream",
     "text": [
      "    A   B   C\n",
      "   --- --- ---\n",
      "1 | X |   |   |\n",
      "   --- --- ---\n",
      "2 |   |   |   |\n",
      "   --- --- ---\n",
      "3 |   |   |   |\n",
      "   --- --- ---\n"
     ]
    },
    {
     "name": "stdin",
     "output_type": "stream",
     "text": [
      "Player 2, please enter your move (ex: A1):  B3\n"
     ]
    },
    {
     "name": "stdout",
     "output_type": "stream",
     "text": [
      "    A   B   C\n",
      "   --- --- ---\n",
      "1 | X |   |   |\n",
      "   --- --- ---\n",
      "2 |   |   |   |\n",
      "   --- --- ---\n",
      "3 |   | O |   |\n",
      "   --- --- ---\n"
     ]
    },
    {
     "name": "stdin",
     "output_type": "stream",
     "text": [
      "Player 1, please enter your move (ex: A1):  C1\n"
     ]
    },
    {
     "name": "stdout",
     "output_type": "stream",
     "text": [
      "    A   B   C\n",
      "   --- --- ---\n",
      "1 | X |   | X |\n",
      "   --- --- ---\n",
      "2 |   |   |   |\n",
      "   --- --- ---\n",
      "3 |   | O |   |\n",
      "   --- --- ---\n"
     ]
    },
    {
     "name": "stdin",
     "output_type": "stream",
     "text": [
      "Player 2, please enter your move (ex: A1):  B2\n"
     ]
    },
    {
     "name": "stdout",
     "output_type": "stream",
     "text": [
      "    A   B   C\n",
      "   --- --- ---\n",
      "1 | X |   | X |\n",
      "   --- --- ---\n",
      "2 |   | O |   |\n",
      "   --- --- ---\n",
      "3 |   | O |   |\n",
      "   --- --- ---\n"
     ]
    },
    {
     "name": "stdin",
     "output_type": "stream",
     "text": [
      "Player 1, please enter your move (ex: A1):  A3\n"
     ]
    },
    {
     "name": "stdout",
     "output_type": "stream",
     "text": [
      "    A   B   C\n",
      "   --- --- ---\n",
      "1 | X |   | X |\n",
      "   --- --- ---\n",
      "2 |   | O |   |\n",
      "   --- --- ---\n",
      "3 | X | O |   |\n",
      "   --- --- ---\n"
     ]
    },
    {
     "name": "stdin",
     "output_type": "stream",
     "text": [
      "Player 2, please enter your move (ex: A1):  B1\n"
     ]
    },
    {
     "name": "stdout",
     "output_type": "stream",
     "text": [
      "    A   B   C\n",
      "   --- --- ---\n",
      "1 | X | O | X |\n",
      "   --- --- ---\n",
      "2 |   | O |   |\n",
      "   --- --- ---\n",
      "3 | X | O |   |\n",
      "   --- --- ---\n",
      "player 2 wins!\n"
     ]
    }
   ],
   "source": [
    "# Test your solution here\n",
    "\n",
    "tic_tac_toe()"
   ]
  },
  {
   "cell_type": "markdown",
   "metadata": {},
   "source": [
    "*Exercise 10:* Test that your game works for 5x5 Tic Tac Toe.  "
   ]
  },
  {
   "cell_type": "code",
   "execution_count": 98,
   "metadata": {},
   "outputs": [
    {
     "name": "stdout",
     "output_type": "stream",
     "text": [
      "    A   B   C   D   E\n",
      "   --- --- --- --- ---\n",
      "1 |   |   |   |   |   |\n",
      "   --- --- --- --- ---\n",
      "2 |   |   |   |   |   |\n",
      "   --- --- --- --- ---\n",
      "3 |   |   |   |   |   |\n",
      "   --- --- --- --- ---\n",
      "4 |   |   |   |   |   |\n",
      "   --- --- --- --- ---\n",
      "5 |   |   |   |   |   |\n",
      "   --- --- --- --- ---\n"
     ]
    },
    {
     "name": "stdin",
     "output_type": "stream",
     "text": [
      "Player 1, please enter your move (ex: A1):  E3\n"
     ]
    },
    {
     "name": "stdout",
     "output_type": "stream",
     "text": [
      "    A   B   C   D   E\n",
      "   --- --- --- --- ---\n",
      "1 |   |   |   |   |   |\n",
      "   --- --- --- --- ---\n",
      "2 |   |   |   |   |   |\n",
      "   --- --- --- --- ---\n",
      "3 |   |   |   |   | X |\n",
      "   --- --- --- --- ---\n",
      "4 |   |   |   |   |   |\n",
      "   --- --- --- --- ---\n",
      "5 |   |   |   |   |   |\n",
      "   --- --- --- --- ---\n"
     ]
    },
    {
     "name": "stdin",
     "output_type": "stream",
     "text": [
      "Player 2, please enter your move (ex: A1):  B2\n"
     ]
    },
    {
     "name": "stdout",
     "output_type": "stream",
     "text": [
      "    A   B   C   D   E\n",
      "   --- --- --- --- ---\n",
      "1 |   |   |   |   |   |\n",
      "   --- --- --- --- ---\n",
      "2 |   | O |   |   |   |\n",
      "   --- --- --- --- ---\n",
      "3 |   |   |   |   | X |\n",
      "   --- --- --- --- ---\n",
      "4 |   |   |   |   |   |\n",
      "   --- --- --- --- ---\n",
      "5 |   |   |   |   |   |\n",
      "   --- --- --- --- ---\n"
     ]
    },
    {
     "name": "stdin",
     "output_type": "stream",
     "text": [
      "Player 1, please enter your move (ex: A1):  A1\n"
     ]
    },
    {
     "name": "stdout",
     "output_type": "stream",
     "text": [
      "    A   B   C   D   E\n",
      "   --- --- --- --- ---\n",
      "1 | X |   |   |   |   |\n",
      "   --- --- --- --- ---\n",
      "2 |   | O |   |   |   |\n",
      "   --- --- --- --- ---\n",
      "3 |   |   |   |   | X |\n",
      "   --- --- --- --- ---\n",
      "4 |   |   |   |   |   |\n",
      "   --- --- --- --- ---\n",
      "5 |   |   |   |   |   |\n",
      "   --- --- --- --- ---\n"
     ]
    },
    {
     "name": "stdin",
     "output_type": "stream",
     "text": [
      "Player 2, please enter your move (ex: A1):  B4\n"
     ]
    },
    {
     "name": "stdout",
     "output_type": "stream",
     "text": [
      "    A   B   C   D   E\n",
      "   --- --- --- --- ---\n",
      "1 | X |   |   |   |   |\n",
      "   --- --- --- --- ---\n",
      "2 |   | O |   |   |   |\n",
      "   --- --- --- --- ---\n",
      "3 |   |   |   |   | X |\n",
      "   --- --- --- --- ---\n",
      "4 |   | O |   |   |   |\n",
      "   --- --- --- --- ---\n",
      "5 |   |   |   |   |   |\n",
      "   --- --- --- --- ---\n"
     ]
    },
    {
     "name": "stdin",
     "output_type": "stream",
     "text": [
      "Player 1, please enter your move (ex: A1):  D5\n"
     ]
    },
    {
     "name": "stdout",
     "output_type": "stream",
     "text": [
      "    A   B   C   D   E\n",
      "   --- --- --- --- ---\n",
      "1 | X |   |   |   |   |\n",
      "   --- --- --- --- ---\n",
      "2 |   | O |   |   |   |\n",
      "   --- --- --- --- ---\n",
      "3 |   |   |   |   | X |\n",
      "   --- --- --- --- ---\n",
      "4 |   | O |   |   |   |\n",
      "   --- --- --- --- ---\n",
      "5 |   |   |   | X |   |\n",
      "   --- --- --- --- ---\n"
     ]
    },
    {
     "name": "stdin",
     "output_type": "stream",
     "text": [
      "Player 2, please enter your move (ex: A1):  C3\n"
     ]
    },
    {
     "name": "stdout",
     "output_type": "stream",
     "text": [
      "    A   B   C   D   E\n",
      "   --- --- --- --- ---\n",
      "1 | X |   |   |   |   |\n",
      "   --- --- --- --- ---\n",
      "2 |   | O |   |   |   |\n",
      "   --- --- --- --- ---\n",
      "3 |   |   | O |   | X |\n",
      "   --- --- --- --- ---\n",
      "4 |   | O |   |   |   |\n",
      "   --- --- --- --- ---\n",
      "5 |   |   |   | X |   |\n",
      "   --- --- --- --- ---\n"
     ]
    },
    {
     "name": "stdin",
     "output_type": "stream",
     "text": [
      "Player 1, please enter your move (ex: A1):  D2\n"
     ]
    },
    {
     "name": "stdout",
     "output_type": "stream",
     "text": [
      "    A   B   C   D   E\n",
      "   --- --- --- --- ---\n",
      "1 | X |   |   |   |   |\n",
      "   --- --- --- --- ---\n",
      "2 |   | O |   | X |   |\n",
      "   --- --- --- --- ---\n",
      "3 |   |   | O |   | X |\n",
      "   --- --- --- --- ---\n",
      "4 |   | O |   |   |   |\n",
      "   --- --- --- --- ---\n",
      "5 |   |   |   | X |   |\n",
      "   --- --- --- --- ---\n"
     ]
    },
    {
     "name": "stdin",
     "output_type": "stream",
     "text": [
      "Player 2, please enter your move (ex: A1):  C1\n"
     ]
    },
    {
     "name": "stdout",
     "output_type": "stream",
     "text": [
      "    A   B   C   D   E\n",
      "   --- --- --- --- ---\n",
      "1 | X |   | O |   |   |\n",
      "   --- --- --- --- ---\n",
      "2 |   | O |   | X |   |\n",
      "   --- --- --- --- ---\n",
      "3 |   |   | O |   | X |\n",
      "   --- --- --- --- ---\n",
      "4 |   | O |   |   |   |\n",
      "   --- --- --- --- ---\n",
      "5 |   |   |   | X |   |\n",
      "   --- --- --- --- ---\n"
     ]
    },
    {
     "name": "stdin",
     "output_type": "stream",
     "text": [
      "Player 1, please enter your move (ex: A1):  D4\n"
     ]
    },
    {
     "name": "stdout",
     "output_type": "stream",
     "text": [
      "    A   B   C   D   E\n",
      "   --- --- --- --- ---\n",
      "1 | X |   | O |   |   |\n",
      "   --- --- --- --- ---\n",
      "2 |   | O |   | X |   |\n",
      "   --- --- --- --- ---\n",
      "3 |   |   | O |   | X |\n",
      "   --- --- --- --- ---\n",
      "4 |   | O |   | X |   |\n",
      "   --- --- --- --- ---\n",
      "5 |   |   |   | X |   |\n",
      "   --- --- --- --- ---\n"
     ]
    },
    {
     "name": "stdin",
     "output_type": "stream",
     "text": [
      "Player 2, please enter your move (ex: A1):  C4\n"
     ]
    },
    {
     "name": "stdout",
     "output_type": "stream",
     "text": [
      "    A   B   C   D   E\n",
      "   --- --- --- --- ---\n",
      "1 | X |   | O |   |   |\n",
      "   --- --- --- --- ---\n",
      "2 |   | O |   | X |   |\n",
      "   --- --- --- --- ---\n",
      "3 |   |   | O |   | X |\n",
      "   --- --- --- --- ---\n",
      "4 |   | O | O | X |   |\n",
      "   --- --- --- --- ---\n",
      "5 |   |   |   | X |   |\n",
      "   --- --- --- --- ---\n"
     ]
    },
    {
     "name": "stdin",
     "output_type": "stream",
     "text": [
      "Player 1, please enter your move (ex: A1):  B5\n"
     ]
    },
    {
     "name": "stdout",
     "output_type": "stream",
     "text": [
      "    A   B   C   D   E\n",
      "   --- --- --- --- ---\n",
      "1 | X |   | O |   |   |\n",
      "   --- --- --- --- ---\n",
      "2 |   | O |   | X |   |\n",
      "   --- --- --- --- ---\n",
      "3 |   |   | O |   | X |\n",
      "   --- --- --- --- ---\n",
      "4 |   | O | O | X |   |\n",
      "   --- --- --- --- ---\n",
      "5 |   | X |   | X |   |\n",
      "   --- --- --- --- ---\n"
     ]
    },
    {
     "name": "stdin",
     "output_type": "stream",
     "text": [
      "Player 2, please enter your move (ex: A1):  C5\n"
     ]
    },
    {
     "name": "stdout",
     "output_type": "stream",
     "text": [
      "    A   B   C   D   E\n",
      "   --- --- --- --- ---\n",
      "1 | X |   | O |   |   |\n",
      "   --- --- --- --- ---\n",
      "2 |   | O |   | X |   |\n",
      "   --- --- --- --- ---\n",
      "3 |   |   | O |   | X |\n",
      "   --- --- --- --- ---\n",
      "4 |   | O | O | X |   |\n",
      "   --- --- --- --- ---\n",
      "5 |   | X | O | X |   |\n",
      "   --- --- --- --- ---\n"
     ]
    },
    {
     "name": "stdin",
     "output_type": "stream",
     "text": [
      "Player 1, please enter your move (ex: A1):  B1\n"
     ]
    },
    {
     "name": "stdout",
     "output_type": "stream",
     "text": [
      "    A   B   C   D   E\n",
      "   --- --- --- --- ---\n",
      "1 | X | X | O |   |   |\n",
      "   --- --- --- --- ---\n",
      "2 |   | O |   | X |   |\n",
      "   --- --- --- --- ---\n",
      "3 |   |   | O |   | X |\n",
      "   --- --- --- --- ---\n",
      "4 |   | O | O | X |   |\n",
      "   --- --- --- --- ---\n",
      "5 |   | X | O | X |   |\n",
      "   --- --- --- --- ---\n"
     ]
    },
    {
     "name": "stdin",
     "output_type": "stream",
     "text": [
      "Player 2, please enter your move (ex: A1):  C2\n"
     ]
    },
    {
     "name": "stdout",
     "output_type": "stream",
     "text": [
      "    A   B   C   D   E\n",
      "   --- --- --- --- ---\n",
      "1 | X | X | O |   |   |\n",
      "   --- --- --- --- ---\n",
      "2 |   | O | O | X |   |\n",
      "   --- --- --- --- ---\n",
      "3 |   |   | O |   | X |\n",
      "   --- --- --- --- ---\n",
      "4 |   | O | O | X |   |\n",
      "   --- --- --- --- ---\n",
      "5 |   | X | O | X |   |\n",
      "   --- --- --- --- ---\n",
      "player 2 wins!\n"
     ]
    }
   ],
   "source": [
    "# Test your solution here\n",
    "\n",
    "def tic_tac_toe():\n",
    "    size=5 #changes this makes the board whatever size you want\n",
    "    board=create_board(size)\n",
    "    draw_labeled_board(board)\n",
    "\n",
    "    player=1 #checks to make sure move is valid\n",
    "    while True:\n",
    "        get_player_move(board, player)\n",
    "        draw_labeled_board(board)\n",
    "\n",
    "        result=check_winner(board) #determines who wins the game/checks the board\n",
    "        if result==1:\n",
    "            print(\"Player 1 wins!\")\n",
    "            break\n",
    "        elif result==2:\n",
    "            print(\"player 2 wins!\")\n",
    "            break\n",
    "        elif result==-1:\n",
    "            print(\"It's a tie!\")\n",
    "            break\n",
    "\n",
    "        player=3-player #switches the players to keep playing\n",
    "\n",
    "tic_tac_toe()"
   ]
  },
  {
   "cell_type": "markdown",
   "metadata": {},
   "source": [
    "*Exercise 11:* (Advanced / Challenge) Develop a version of the game where one player is the computer. Note that you don't need to do an extensive seach for the best move. You can have the computer simply protect against loosing and otherwise try to win with straight or diagonal patterns."
   ]
  },
  {
   "cell_type": "code",
   "execution_count": null,
   "metadata": {
    "collapsed": true,
    "jupyter": {
     "outputs_hidden": true
    }
   },
   "outputs": [],
   "source": [
    "# Write you solution here"
   ]
  },
  {
   "cell_type": "code",
   "execution_count": null,
   "metadata": {
    "collapsed": true,
    "jupyter": {
     "outputs_hidden": true
    }
   },
   "outputs": [],
   "source": [
    "# Test your solution here"
   ]
  }
 ],
 "metadata": {
  "kernelspec": {
   "display_name": "Python 3 (ipykernel)",
   "language": "python",
   "name": "python3"
  },
  "language_info": {
   "codemirror_mode": {
    "name": "ipython",
    "version": 3
   },
   "file_extension": ".py",
   "mimetype": "text/x-python",
   "name": "python",
   "nbconvert_exporter": "python",
   "pygments_lexer": "ipython3",
   "version": "3.13.1"
  }
 },
 "nbformat": 4,
 "nbformat_minor": 4
}
